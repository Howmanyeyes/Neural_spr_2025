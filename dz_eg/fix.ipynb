{
 "cells": [
  {
   "cell_type": "code",
   "execution_count": 1,
   "id": "23711766",
   "metadata": {},
   "outputs": [
    {
     "name": "stdout",
     "output_type": "stream",
     "text": [
      "Rows with null values:\n",
      "                                                 index file_name label\n",
      "77   77,040602606-canada-athabasca-glacier-movin_pr...       NaN   NaN\n",
      "115  115,Lake_Mountain_Timelapse_preview.mp4,\"cloud...       NaN   NaN\n",
      "141  141,Montana view of Missouri headwaters at Thr...       NaN   NaN\n",
      "147  147,161212_087_Vietnam_1080p96fps_preview.mp4,...       NaN   NaN\n",
      "160  160,Chile Estero de Castro coast and cloud_pre...       NaN   NaN\n",
      "181  181,Aitutaki blue green lagoon with rippling w...       NaN   NaN\n",
      "196       196,Airplanewing1_preview.mp4,\"cloud, water\"       NaN   NaN\n",
      "206  206,000692230-panama-canal-clouds-over-gatun_p...       NaN   NaN\n",
      "221       221,Parasailing_1_preview.mp4,\"cloud, water\"       NaN   NaN\n",
      "224  224,alyssahuberfilms_Ocean_Waves_at_Sunset_HD_...       NaN   NaN\n",
      "230  230,026205312-greenland-ice-fjord-c09_preview....       NaN   NaN\n",
      "232  232,Spain Serrania de Cuenca Una lagoon with b...       NaN   NaN\n",
      "239  239,000984827-honolulu-ala-moana-late-evenin_p...       NaN   NaN\n",
      "262       262,RooftopClouds_preview.mp4,\"cloud, water\"       NaN   NaN\n",
      "281  281,Pull_Focus_Along_Groynes__Videvo_preview.m...       NaN   NaN\n",
      "368  368,Aitutaki sunset time lapse_preview.mp4,\"cl...       NaN   NaN\n"
     ]
    }
   ],
   "source": [
    "import pandas as pd\n",
    "\n",
    "# Load the CSV file\n",
    "df = pd.read_csv(\"submit_goood.csv\")\n",
    "\n",
    "# Find rows with any null values\n",
    "null_rows = df[df.isnull().any(axis=1)]\n",
    "\n",
    "# Display them\n",
    "print(\"Rows with null values:\")\n",
    "print(null_rows)\n"
   ]
  },
  {
   "cell_type": "code",
   "execution_count": 5,
   "id": "105956f3",
   "metadata": {},
   "outputs": [
    {
     "name": "stdout",
     "output_type": "stream",
     "text": [
      "Remaining null rows:\n",
      "Empty DataFrame\n",
      "Columns: [index, file_name, label]\n",
      "Index: []\n"
     ]
    },
    {
     "name": "stderr",
     "output_type": "stream",
     "text": [
      "C:\\Users\\NVME_1TB\\AppData\\Local\\Temp\\ipykernel_15316\\2547193512.py:9: FutureWarning: Series.__getitem__ treating keys as positions is deprecated. In a future version, integer keys will always be treated as labels (consistent with DataFrame behavior). To access a value by position, use `ser.iloc[pos]`\n",
      "  parts = str(row[0]).split(\",\", maxsplit=2)  # Assuming: index, file_name, label\n",
      "C:\\Users\\NVME_1TB\\AppData\\Local\\Temp\\ipykernel_15316\\2547193512.py:18: FutureWarning: errors='ignore' is deprecated and will raise in a future version. Use to_numeric without passing `errors` and catch exceptions explicitly instead\n",
      "  fixed_df[\"index\"] = pd.to_numeric(fixed_df[\"index\"], errors=\"ignore\")\n"
     ]
    }
   ],
   "source": [
    "import pandas as pd\n",
    "\n",
    "# Load the CSV\n",
    "df = pd.read_csv(\"submit_goood.csv\")\n",
    "\n",
    "# If any row has all columns null except the first, try to fix it\n",
    "def fix_malformed_rows(row):\n",
    "    if pd.isnull(row[\"file_name\"]) and pd.isnull(row[\"label\"]):\n",
    "        parts = str(row[0]).split(\",\", maxsplit=2)  # Assuming: index, file_name, label\n",
    "        if len(parts) == 3:\n",
    "            return pd.Series(parts, index=[\"index\", \"file_name\", \"label\"])\n",
    "    return row\n",
    "\n",
    "# Apply the fix to the whole DataFrame\n",
    "fixed_df = df.apply(fix_malformed_rows, axis=1)\n",
    "\n",
    "# Convert index column back to int if needed\n",
    "fixed_df[\"index\"] = pd.to_numeric(fixed_df[\"index\"], errors=\"ignore\")\n",
    "\n",
    "# Show rows that still have nulls\n",
    "null_rows = fixed_df[fixed_df.isnull().any(axis=1)]\n",
    "\n",
    "print(\"Remaining null rows:\")\n",
    "print(null_rows)\n",
    "\n",
    "# Optionally: Save cleaned version\n",
    "fixed_df.to_csv(\"cleaned_submit.csv\", index=False)\n"
   ]
  }
 ],
 "metadata": {
  "kernelspec": {
   "display_name": ".neural_spr_2025_venv",
   "language": "python",
   "name": "python3"
  },
  "language_info": {
   "codemirror_mode": {
    "name": "ipython",
    "version": 3
   },
   "file_extension": ".py",
   "mimetype": "text/x-python",
   "name": "python",
   "nbconvert_exporter": "python",
   "pygments_lexer": "ipython3",
   "version": "3.11.9"
  }
 },
 "nbformat": 4,
 "nbformat_minor": 5
}
